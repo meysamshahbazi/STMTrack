{
 "cells": [
  {
   "cell_type": "code",
   "execution_count": 2,
   "id": "abcf172b",
   "metadata": {},
   "outputs": [],
   "source": [
    "from main.paths import ROOT_PATH  # isort:skip"
   ]
  },
  {
   "cell_type": "code",
   "execution_count": 3,
   "id": "d67eb78c",
   "metadata": {},
   "outputs": [],
   "source": [
    "import argparse\n",
    "import os.path as osp\n",
    "import sys"
   ]
  },
  {
   "cell_type": "code",
   "execution_count": 4,
   "id": "59b1e67e",
   "metadata": {},
   "outputs": [],
   "source": [
    "import cv2\n",
    "from loguru import logger\n",
    "\n",
    "import torch\n",
    "\n",
    "import random\n",
    "import os\n",
    "import numpy as np"
   ]
  },
  {
   "cell_type": "code",
   "execution_count": 5,
   "id": "c30a0303",
   "metadata": {},
   "outputs": [],
   "source": [
    "from videoanalyst.config.config import cfg as root_cfg\n",
    "from videoanalyst.config.config import specify_task\n",
    "from videoanalyst.data import builder as dataloader_builder\n",
    "from videoanalyst.engine import builder as engine_builder\n",
    "from videoanalyst.model import builder as model_builder\n",
    "from videoanalyst.optim import builder as optim_builder\n",
    "from videoanalyst.utils import Timer, complete_path_wt_root_in_cfg, ensure_dir\n",
    "from videoanalyst.pipeline import builder as pipeline_builder\n",
    "from videoanalyst.engine.builder import build as tester_builder\n",
    "from videoanalyst.engine.monitor.monitor_impl.tensorboard_logger import TensorboardLogger"
   ]
  },
  {
   "cell_type": "code",
   "execution_count": 6,
   "id": "b34f6677",
   "metadata": {},
   "outputs": [],
   "source": [
    "cv2.setNumThreads(1)\n"
   ]
  },
  {
   "cell_type": "code",
   "execution_count": 7,
   "id": "b17c4414",
   "metadata": {},
   "outputs": [],
   "source": [
    "# torch.backends.cudnn.enabled = False\n",
    "\n",
    "# pytorch reproducibility\n",
    "# https://pytorch.org/docs/stable/notes/randomness.html#cudnn\n",
    "torch.backends.cudnn.benchmark = False\n",
    "torch.backends.cudnn.deterministic = True"
   ]
  },
  {
   "cell_type": "code",
   "execution_count": 8,
   "id": "71fe713c",
   "metadata": {},
   "outputs": [],
   "source": [
    "def set_seed(seed):\n",
    "    random.seed(seed)\n",
    "    os.environ['PYTHONHASHSEED'] = str(seed)\n",
    "    np.random.seed(seed)\n",
    "    torch.manual_seed(seed)"
   ]
  },
  {
   "cell_type": "code",
   "execution_count": 14,
   "id": "e719228a",
   "metadata": {},
   "outputs": [],
   "source": [
    "def make_parser():\n",
    "    parser = argparse.ArgumentParser(description='Test') # Train?\n",
    "    parser.add_argument('-cfg',\n",
    "                        '--config',\n",
    "                        default='experiments/stmtrack/train/got10k/stmtrack-googlenet-trn-edited.yaml',\n",
    "                        # experiments/stmtrack/train/fulldata/stmtrack-googlenet-trn-fulldata.yaml\n",
    "                        type=str,\n",
    "                        help='path to experiment configuration')\n",
    "    parser.add_argument(\n",
    "        '-r',\n",
    "        '--resume',\n",
    "        default=\"\",\n",
    "        help=r\"completed epoch's number, latest or one model path\")\n",
    "    parser.add_argument(\n",
    "        '-v',\n",
    "        '--validation',\n",
    "        default=\"15\",\n",
    "        help=r\"Epoch's number to start to evaluate the model on the validation set\")\n",
    "\n",
    "    return parser"
   ]
  },
  {
   "cell_type": "markdown",
   "id": "d1b0fca8",
   "metadata": {},
   "source": [
    "# main"
   ]
  },
  {
   "cell_type": "code",
   "execution_count": 15,
   "id": "5824a590",
   "metadata": {},
   "outputs": [],
   "source": [
    "set_seed(1000000007)"
   ]
  },
  {
   "cell_type": "code",
   "execution_count": 16,
   "id": "5235f957",
   "metadata": {},
   "outputs": [],
   "source": [
    "parser = make_parser()"
   ]
  },
  {
   "cell_type": "code",
   "execution_count": 20,
   "id": "4042a0db",
   "metadata": {},
   "outputs": [],
   "source": [
    "# parsed_args = parser.parse_args()"
   ]
  },
  {
   "cell_type": "code",
   "execution_count": 24,
   "id": "32cf1631",
   "metadata": {},
   "outputs": [],
   "source": [
    "parsed_args_config = 'experiments/stmtrack/train/got10k/stmtrack-googlenet-trn-edited.yaml'\n",
    "# experiments/stmtrack/train/fulldata/stmtrack-googlenet-trn-fulldata.yaml"
   ]
  },
  {
   "cell_type": "code",
   "execution_count": 25,
   "id": "9f9f3eea",
   "metadata": {},
   "outputs": [],
   "source": [
    "exp_cfg_path = osp.realpath(parsed_args_config)"
   ]
  },
  {
   "cell_type": "code",
   "execution_count": 26,
   "id": "da3a0a73",
   "metadata": {},
   "outputs": [],
   "source": [
    "root_cfg.merge_from_file(exp_cfg_path)"
   ]
  },
  {
   "cell_type": "code",
   "execution_count": 27,
   "id": "088f1e1d",
   "metadata": {},
   "outputs": [],
   "source": [
    "root_cfg = complete_path_wt_root_in_cfg(root_cfg, ROOT_PATH)\n",
    "# root_cfg = root_cfg.train"
   ]
  },
  {
   "cell_type": "code",
   "execution_count": 28,
   "id": "ccfc85fa",
   "metadata": {},
   "outputs": [],
   "source": [
    "task, task_cfg = specify_task(root_cfg.train)"
   ]
  },
  {
   "cell_type": "code",
   "execution_count": 32,
   "id": "0f03c1f2",
   "metadata": {},
   "outputs": [],
   "source": [
    "task_cfg.freeze()"
   ]
  },
  {
   "cell_type": "code",
   "execution_count": 33,
   "id": "1b0aa3ba",
   "metadata": {},
   "outputs": [],
   "source": [
    "log_dir = osp.join(task_cfg.exp_save, task_cfg.exp_name, \"logs\")"
   ]
  },
  {
   "cell_type": "code",
   "execution_count": 34,
   "id": "15044368",
   "metadata": {},
   "outputs": [],
   "source": [
    "ensure_dir(log_dir)"
   ]
  },
  {
   "cell_type": "code",
   "execution_count": 35,
   "id": "704486cb",
   "metadata": {},
   "outputs": [
    {
     "data": {
      "text/plain": [
       "[1, 2]"
      ]
     },
     "execution_count": 35,
     "metadata": {},
     "output_type": "execute_result"
    }
   ],
   "source": [
    "logger.configure(\n",
    "        handlers=[\n",
    "            dict(sink=sys.stderr, level=\"INFO\"),\n",
    "            dict(sink=osp.join(log_dir, \"train_log.txt\"),\n",
    "                 enqueue=True,\n",
    "                 serialize=True,\n",
    "                 diagnose=True,\n",
    "                 backtrace=True,\n",
    "                 level=\"INFO\")\n",
    "        ],\n",
    "        extra={\"common_to_all\": \"default\"},\n",
    "    )"
   ]
  },
  {
   "cell_type": "code",
   "execution_count": 37,
   "id": "90dd20d9",
   "metadata": {},
   "outputs": [
    {
     "name": "stderr",
     "output_type": "stream",
     "text": [
      "2024-08-12 10:15:14.119 | INFO     | __main__:<module>:2 - Load experiment configuration at: /home/meysam/test-apps/STMTrack/experiments/stmtrack/train/got10k/stmtrack-googlenet-trn-edited.yaml\n",
      "2024-08-12 10:15:14.120 | INFO     | __main__:<module>:3 - Merged with root_cfg imported from videoanalyst.config.config.cfg\n"
     ]
    }
   ],
   "source": [
    "# backup config\n",
    "logger.info(\"Load experiment configuration at: %s\" % exp_cfg_path)\n",
    "logger.info(\n",
    "    \"Merged with root_cfg imported from videoanalyst.config.config.cfg\")\n",
    "cfg_bak_file = osp.join(log_dir, \"%s_bak.yaml\" % task_cfg.exp_name)"
   ]
  },
  {
   "cell_type": "code",
   "execution_count": null,
   "id": "addeb1cf",
   "metadata": {},
   "outputs": [],
   "source": []
  }
 ],
 "metadata": {
  "kernelspec": {
   "display_name": "Python 3 (ipykernel)",
   "language": "python",
   "name": "python3"
  },
  "language_info": {
   "codemirror_mode": {
    "name": "ipython",
    "version": 3
   },
   "file_extension": ".py",
   "mimetype": "text/x-python",
   "name": "python",
   "nbconvert_exporter": "python",
   "pygments_lexer": "ipython3",
   "version": "3.9.7"
  }
 },
 "nbformat": 4,
 "nbformat_minor": 5
}
