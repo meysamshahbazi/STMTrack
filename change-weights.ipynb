{
 "cells": [
  {
   "cell_type": "code",
   "execution_count": 1,
   "id": "46d62a68",
   "metadata": {},
   "outputs": [],
   "source": [
    "from main.paths import ROOT_PATH  # isort:skip"
   ]
  },
  {
   "cell_type": "code",
   "execution_count": 2,
   "id": "d48e0113",
   "metadata": {},
   "outputs": [],
   "source": [
    "import argparse\n",
    "import os.path as osp\n",
    "import sys"
   ]
  },
  {
   "cell_type": "code",
   "execution_count": 3,
   "id": "6d83769c",
   "metadata": {},
   "outputs": [],
   "source": [
    "import cv2\n",
    "from loguru import logger\n",
    "\n",
    "import torch\n",
    "\n",
    "import random\n",
    "import os\n",
    "import numpy as np"
   ]
  },
  {
   "cell_type": "code",
   "execution_count": 4,
   "id": "831c8c9a",
   "metadata": {},
   "outputs": [],
   "source": [
    "from videoanalyst.config.config import cfg as root_cfg\n",
    "from videoanalyst.config.config import specify_task\n",
    "from videoanalyst.data import builder as dataloader_builder\n",
    "from videoanalyst.engine import builder as engine_builder\n",
    "from videoanalyst.model import builder as model_builder\n",
    "from videoanalyst.optim import builder as optim_builder\n",
    "from videoanalyst.utils import Timer, complete_path_wt_root_in_cfg, ensure_dir\n",
    "from videoanalyst.pipeline import builder as pipeline_builder\n",
    "from videoanalyst.engine.builder import build as tester_builder\n",
    "from videoanalyst.engine.monitor.monitor_impl.tensorboard_logger import TensorboardLogger"
   ]
  },
  {
   "cell_type": "code",
   "execution_count": 5,
   "id": "f1661da0",
   "metadata": {},
   "outputs": [],
   "source": [
    "cv2.setNumThreads(1)\n"
   ]
  },
  {
   "cell_type": "code",
   "execution_count": 6,
   "id": "67e05730",
   "metadata": {},
   "outputs": [],
   "source": [
    "# torch.backends.cudnn.enabled = False\n",
    "\n",
    "# pytorch reproducibility\n",
    "# https://pytorch.org/docs/stable/notes/randomness.html#cudnn\n",
    "torch.backends.cudnn.benchmark = False\n",
    "torch.backends.cudnn.deterministic = True"
   ]
  },
  {
   "cell_type": "code",
   "execution_count": 7,
   "id": "ecdb39f8",
   "metadata": {},
   "outputs": [],
   "source": [
    "def set_seed(seed):\n",
    "    random.seed(seed)\n",
    "    os.environ['PYTHONHASHSEED'] = str(seed)\n",
    "    np.random.seed(seed)\n",
    "    torch.manual_seed(seed)"
   ]
  },
  {
   "cell_type": "code",
   "execution_count": 8,
   "id": "74be20db",
   "metadata": {},
   "outputs": [],
   "source": [
    "def make_parser():\n",
    "    parser = argparse.ArgumentParser(description='Test') # Train?\n",
    "    parser.add_argument('-cfg',\n",
    "                        '--config',\n",
    "                        default='experiments/stmtrack/train/got10k/stmtrack-googlenet-trn-edited.yaml',\n",
    "                        # experiments/stmtrack/train/fulldata/stmtrack-googlenet-trn-fulldata.yaml\n",
    "                        type=str,\n",
    "                        help='path to experiment configuration')\n",
    "    parser.add_argument(\n",
    "        '-r',\n",
    "        '--resume',\n",
    "        default=\"\",\n",
    "        help=r\"completed epoch's number, latest or one model path\")\n",
    "    parser.add_argument(\n",
    "        '-v',\n",
    "        '--validation',\n",
    "        default=\"15\",\n",
    "        help=r\"Epoch's number to start to evaluate the model on the validation set\")\n",
    "\n",
    "    return parser"
   ]
  },
  {
   "cell_type": "markdown",
   "id": "5fc8d5f4",
   "metadata": {},
   "source": [
    "# main"
   ]
  },
  {
   "cell_type": "code",
   "execution_count": 9,
   "id": "076d2cce",
   "metadata": {},
   "outputs": [],
   "source": [
    "set_seed(1000000007)"
   ]
  },
  {
   "cell_type": "code",
   "execution_count": 10,
   "id": "22e13274",
   "metadata": {},
   "outputs": [],
   "source": [
    "parser = make_parser()"
   ]
  },
  {
   "cell_type": "code",
   "execution_count": 11,
   "id": "91500e94",
   "metadata": {},
   "outputs": [],
   "source": [
    "# parsed_args = parser.parse_args()"
   ]
  },
  {
   "cell_type": "code",
   "execution_count": 12,
   "id": "b36c65ef",
   "metadata": {},
   "outputs": [],
   "source": [
    "parsed_args_config = 'experiments/stmtrack/train/got10k/stmtrack-googlenet-trn-edited.yaml'\n",
    "# experiments/stmtrack/train/fulldata/stmtrack-googlenet-trn-fulldata.yaml"
   ]
  },
  {
   "cell_type": "code",
   "execution_count": 13,
   "id": "7e6de01d",
   "metadata": {},
   "outputs": [],
   "source": [
    "exp_cfg_path = osp.realpath(parsed_args_config)"
   ]
  },
  {
   "cell_type": "code",
   "execution_count": 14,
   "id": "76445b9a",
   "metadata": {},
   "outputs": [],
   "source": [
    "root_cfg.merge_from_file(exp_cfg_path)"
   ]
  },
  {
   "cell_type": "code",
   "execution_count": 15,
   "id": "60c36e1a",
   "metadata": {},
   "outputs": [],
   "source": [
    "root_cfg = complete_path_wt_root_in_cfg(root_cfg, ROOT_PATH)\n",
    "# root_cfg = root_cfg.train"
   ]
  },
  {
   "cell_type": "code",
   "execution_count": 16,
   "id": "1b4e930d",
   "metadata": {},
   "outputs": [],
   "source": [
    "task, task_cfg = specify_task(root_cfg.train)"
   ]
  },
  {
   "cell_type": "code",
   "execution_count": 17,
   "id": "8dc12e9b",
   "metadata": {},
   "outputs": [],
   "source": [
    "task_cfg.freeze()"
   ]
  },
  {
   "cell_type": "code",
   "execution_count": 18,
   "id": "bc355e45",
   "metadata": {},
   "outputs": [],
   "source": [
    "log_dir = osp.join(task_cfg.exp_save, task_cfg.exp_name, \"logs\")"
   ]
  },
  {
   "cell_type": "code",
   "execution_count": 19,
   "id": "310e7df5",
   "metadata": {},
   "outputs": [],
   "source": [
    "ensure_dir(log_dir)"
   ]
  },
  {
   "cell_type": "code",
   "execution_count": 20,
   "id": "2e36d5ec",
   "metadata": {},
   "outputs": [
    {
     "data": {
      "text/plain": [
       "[1, 2]"
      ]
     },
     "execution_count": 20,
     "metadata": {},
     "output_type": "execute_result"
    }
   ],
   "source": [
    "logger.configure(\n",
    "        handlers=[\n",
    "            dict(sink=sys.stderr, level=\"INFO\"),\n",
    "            dict(sink=osp.join(log_dir, \"train_log.txt\"),\n",
    "                 enqueue=True,\n",
    "                 serialize=True,\n",
    "                 diagnose=True,\n",
    "                 backtrace=True,\n",
    "                 level=\"INFO\")\n",
    "        ],\n",
    "        extra={\"common_to_all\": \"default\"},\n",
    "    )"
   ]
  },
  {
   "cell_type": "code",
   "execution_count": 21,
   "id": "5b439cd2",
   "metadata": {},
   "outputs": [
    {
     "name": "stderr",
     "output_type": "stream",
     "text": [
      "2024-08-12 15:32:58.354 | INFO     | __main__:<module>:2 - Load experiment configuration at: /home/meysam/test-apps/STMTrack/experiments/stmtrack/train/got10k/stmtrack-googlenet-trn-edited.yaml\n",
      "2024-08-12 15:32:58.356 | INFO     | __main__:<module>:3 - Merged with root_cfg imported from videoanalyst.config.config.cfg\n"
     ]
    }
   ],
   "source": [
    "# backup config\n",
    "logger.info(\"Load experiment configuration at: %s\" % exp_cfg_path)\n",
    "logger.info(\n",
    "    \"Merged with root_cfg imported from videoanalyst.config.config.cfg\")\n",
    "cfg_bak_file = osp.join(log_dir, \"%s_bak.yaml\" % task_cfg.exp_name)"
   ]
  },
  {
   "cell_type": "code",
   "execution_count": 22,
   "id": "4cfb4fff",
   "metadata": {},
   "outputs": [],
   "source": [
    "with open(cfg_bak_file, \"w\") as f:\n",
    "    f.write(task_cfg.dump())"
   ]
  },
  {
   "cell_type": "code",
   "execution_count": 23,
   "id": "c783f773",
   "metadata": {},
   "outputs": [
    {
     "name": "stderr",
     "output_type": "stream",
     "text": [
      "2024-08-12 15:33:01.563 | INFO     | __main__:<module>:1 - Task configuration backed up at /home/meysam/test-apps/STMTrack/snapshots/stmtrack-googlenet-got-train/logs/stmtrack-googlenet-got-train_bak.yaml\n"
     ]
    }
   ],
   "source": [
    "logger.info(\"Task configuration backed up at %s\" % cfg_bak_file)"
   ]
  },
  {
   "cell_type": "code",
   "execution_count": 24,
   "id": "896bbb79",
   "metadata": {},
   "outputs": [],
   "source": [
    "if task_cfg.device == \"cuda\":\n",
    "    world_size = task_cfg.num_processes\n",
    "    assert torch.cuda.is_available(), \"please check your devices\"\n",
    "    assert torch.cuda.device_count(\n",
    "    ) >= world_size, \"cuda device {} is less than {}\".format(\n",
    "        torch.cuda.device_count(), world_size)\n",
    "    devs = [\"cuda:{}\".format(i) for i in range(world_size)]\n",
    "else:\n",
    "    devs = [\"cpu\"]"
   ]
  },
  {
   "cell_type": "code",
   "execution_count": 25,
   "id": "07f56a42",
   "metadata": {},
   "outputs": [
    {
     "name": "stderr",
     "output_type": "stream",
     "text": [
      "2024-08-12 15:33:07.765 | WARNING  | videoanalyst.model.module_base:load_model_param:82 - Some model parameters are not in the checkpoint:\n",
      "proj_fg_bg_label_map:['weight']\n",
      "\n",
      "2024-08-12 15:33:07.766 | WARNING  | videoanalyst.model.module_base:load_model_param:84 - The checkpoint contains parameters not used by the model:\n",
      "AuxLogits.conv0.conv:['weight']\n",
      "AuxLogits.conv0.bn:['weight', 'bias', 'running_mean', 'running_var']\n",
      "AuxLogits.conv1.conv:['weight']\n",
      "AuxLogits.conv1.bn:['weight', 'bias', 'running_mean', 'running_var']\n",
      "AuxLogits.fc:['weight', 'bias']\n",
      "Mixed_7a.branch3x3_1.conv:['weight']\n",
      "Mixed_7a.branch3x3_1.bn:['weight', 'bias', 'running_mean', 'running_var']\n",
      "Mixed_7a.branch3x3_2.conv:['weight']\n",
      "Mixed_7a.branch3x3_2.bn:['weight', 'bias', 'running_mean', 'running_var']\n",
      "Mixed_7a.branch7x7x3_1.conv:['weight']\n",
      "Mixed_7a.branch7x7x3_1.bn:['weight', 'bias', 'running_mean', 'running_var']\n",
      "Mixed_7a.branch7x7x3_2.conv:['weight']\n",
      "Mixed_7a.branch7x7x3_2.bn:['weight', 'bias', 'running_mean', 'running_var']\n",
      "Mixed_7a.branch7x7x3_3.conv:['weight']\n",
      "Mixed_7a.branch7x7x3_3.bn:['weight', 'bias', 'running_mean', 'running_var']\n",
      "Mixed_7a.branch7x7x3_4.conv:['weight']\n",
      "Mixed_7a.branch7x7x3_4.bn:['weight', 'bias', 'running_mean', 'running_var']\n",
      "Mixed_7b.branch1x1.conv:['weight']\n",
      "Mixed_7b.branch1x1.bn:['weight', 'bias', 'running_mean', 'running_var']\n",
      "Mixed_7b.branch3x3_1.conv:['weight']\n",
      "Mixed_7b.branch3x3_1.bn:['weight', 'bias', 'running_mean', 'running_var']\n",
      "Mixed_7b.branch3x3_2a.conv:['weight']\n",
      "Mixed_7b.branch3x3_2a.bn:['weight', 'bias', 'running_mean', 'running_var']\n",
      "Mixed_7b.branch3x3_2b.conv:['weight']\n",
      "Mixed_7b.branch3x3_2b.bn:['weight', 'bias', 'running_mean', 'running_var']\n",
      "Mixed_7b.branch3x3dbl_1.conv:['weight']\n",
      "Mixed_7b.branch3x3dbl_1.bn:['weight', 'bias', 'running_mean', 'running_var']\n",
      "Mixed_7b.branch3x3dbl_2.conv:['weight']\n",
      "Mixed_7b.branch3x3dbl_2.bn:['weight', 'bias', 'running_mean', 'running_var']\n",
      "Mixed_7b.branch3x3dbl_3a.conv:['weight']\n",
      "Mixed_7b.branch3x3dbl_3a.bn:['weight', 'bias', 'running_mean', 'running_var']\n",
      "Mixed_7b.branch3x3dbl_3b.conv:['weight']\n",
      "Mixed_7b.branch3x3dbl_3b.bn:['weight', 'bias', 'running_mean', 'running_var']\n",
      "Mixed_7b.branch_pool.conv:['weight']\n",
      "Mixed_7b.branch_pool.bn:['weight', 'bias', 'running_mean', 'running_var']\n",
      "Mixed_7c.branch1x1.conv:['weight']\n",
      "Mixed_7c.branch1x1.bn:['weight', 'bias', 'running_mean', 'running_var']\n",
      "Mixed_7c.branch3x3_1.conv:['weight']\n",
      "Mixed_7c.branch3x3_1.bn:['weight', 'bias', 'running_mean', 'running_var']\n",
      "Mixed_7c.branch3x3_2a.conv:['weight']\n",
      "Mixed_7c.branch3x3_2a.bn:['weight', 'bias', 'running_mean', 'running_var']\n",
      "Mixed_7c.branch3x3_2b.conv:['weight']\n",
      "Mixed_7c.branch3x3_2b.bn:['weight', 'bias', 'running_mean', 'running_var']\n",
      "Mixed_7c.branch3x3dbl_1.conv:['weight']\n",
      "Mixed_7c.branch3x3dbl_1.bn:['weight', 'bias', 'running_mean', 'running_var']\n",
      "Mixed_7c.branch3x3dbl_2.conv:['weight']\n",
      "Mixed_7c.branch3x3dbl_2.bn:['weight', 'bias', 'running_mean', 'running_var']\n",
      "Mixed_7c.branch3x3dbl_3a.conv:['weight']\n",
      "Mixed_7c.branch3x3dbl_3a.bn:['weight', 'bias', 'running_mean', 'running_var']\n",
      "Mixed_7c.branch3x3dbl_3b.conv:['weight']\n",
      "Mixed_7c.branch3x3dbl_3b.bn:['weight', 'bias', 'running_mean', 'running_var']\n",
      "Mixed_7c.branch_pool.conv:['weight']\n",
      "Mixed_7c.branch_pool.bn:['weight', 'bias', 'running_mean', 'running_var']\n",
      "fc:['weight', 'bias']\n",
      "\n",
      "2024-08-12 15:33:07.946 | INFO     | videoanalyst.model.module_base:update_params:60 - Load pretrained Inception3_M parameters from: /home/meysam/test-apps/STMTrack/models/googlenet/inception_v3_google-1a9a5a14-961cad7697695cca7d9ca4814b17a88d.pth whose md5sum is 961cad7697695cca7d9ca4814b17a88d\n",
      "2024-08-12 15:33:08.060 | WARNING  | videoanalyst.model.module_base:load_model_param:84 - The checkpoint contains parameters not used by the model:\n",
      "AuxLogits.conv0.conv:['weight']\n",
      "AuxLogits.conv0.bn:['weight', 'bias', 'running_mean', 'running_var']\n",
      "AuxLogits.conv1.conv:['weight']\n",
      "AuxLogits.conv1.bn:['weight', 'bias', 'running_mean', 'running_var']\n",
      "AuxLogits.fc:['weight', 'bias']\n",
      "Mixed_7a.branch3x3_1.conv:['weight']\n",
      "Mixed_7a.branch3x3_1.bn:['weight', 'bias', 'running_mean', 'running_var']\n",
      "Mixed_7a.branch3x3_2.conv:['weight']\n",
      "Mixed_7a.branch3x3_2.bn:['weight', 'bias', 'running_mean', 'running_var']\n",
      "Mixed_7a.branch7x7x3_1.conv:['weight']\n",
      "Mixed_7a.branch7x7x3_1.bn:['weight', 'bias', 'running_mean', 'running_var']\n",
      "Mixed_7a.branch7x7x3_2.conv:['weight']\n",
      "Mixed_7a.branch7x7x3_2.bn:['weight', 'bias', 'running_mean', 'running_var']\n",
      "Mixed_7a.branch7x7x3_3.conv:['weight']\n",
      "Mixed_7a.branch7x7x3_3.bn:['weight', 'bias', 'running_mean', 'running_var']\n",
      "Mixed_7a.branch7x7x3_4.conv:['weight']\n",
      "Mixed_7a.branch7x7x3_4.bn:['weight', 'bias', 'running_mean', 'running_var']\n",
      "Mixed_7b.branch1x1.conv:['weight']\n",
      "Mixed_7b.branch1x1.bn:['weight', 'bias', 'running_mean', 'running_var']\n",
      "Mixed_7b.branch3x3_1.conv:['weight']\n",
      "Mixed_7b.branch3x3_1.bn:['weight', 'bias', 'running_mean', 'running_var']\n",
      "Mixed_7b.branch3x3_2a.conv:['weight']\n",
      "Mixed_7b.branch3x3_2a.bn:['weight', 'bias', 'running_mean', 'running_var']\n",
      "Mixed_7b.branch3x3_2b.conv:['weight']\n",
      "Mixed_7b.branch3x3_2b.bn:['weight', 'bias', 'running_mean', 'running_var']\n",
      "Mixed_7b.branch3x3dbl_1.conv:['weight']\n",
      "Mixed_7b.branch3x3dbl_1.bn:['weight', 'bias', 'running_mean', 'running_var']\n",
      "Mixed_7b.branch3x3dbl_2.conv:['weight']\n",
      "Mixed_7b.branch3x3dbl_2.bn:['weight', 'bias', 'running_mean', 'running_var']\n",
      "Mixed_7b.branch3x3dbl_3a.conv:['weight']\n",
      "Mixed_7b.branch3x3dbl_3a.bn:['weight', 'bias', 'running_mean', 'running_var']\n",
      "Mixed_7b.branch3x3dbl_3b.conv:['weight']\n",
      "Mixed_7b.branch3x3dbl_3b.bn:['weight', 'bias', 'running_mean', 'running_var']\n",
      "Mixed_7b.branch_pool.conv:['weight']\n",
      "Mixed_7b.branch_pool.bn:['weight', 'bias', 'running_mean', 'running_var']\n",
      "Mixed_7c.branch1x1.conv:['weight']\n",
      "Mixed_7c.branch1x1.bn:['weight', 'bias', 'running_mean', 'running_var']\n",
      "Mixed_7c.branch3x3_1.conv:['weight']\n",
      "Mixed_7c.branch3x3_1.bn:['weight', 'bias', 'running_mean', 'running_var']\n",
      "Mixed_7c.branch3x3_2a.conv:['weight']\n",
      "Mixed_7c.branch3x3_2a.bn:['weight', 'bias', 'running_mean', 'running_var']\n",
      "Mixed_7c.branch3x3_2b.conv:['weight']\n",
      "Mixed_7c.branch3x3_2b.bn:['weight', 'bias', 'running_mean', 'running_var']\n",
      "Mixed_7c.branch3x3dbl_1.conv:['weight']\n",
      "Mixed_7c.branch3x3dbl_1.bn:['weight', 'bias', 'running_mean', 'running_var']\n",
      "Mixed_7c.branch3x3dbl_2.conv:['weight']\n",
      "Mixed_7c.branch3x3dbl_2.bn:['weight', 'bias', 'running_mean', 'running_var']\n",
      "Mixed_7c.branch3x3dbl_3a.conv:['weight']\n",
      "Mixed_7c.branch3x3dbl_3a.bn:['weight', 'bias', 'running_mean', 'running_var']\n",
      "Mixed_7c.branch3x3dbl_3b.conv:['weight']\n",
      "Mixed_7c.branch3x3dbl_3b.bn:['weight', 'bias', 'running_mean', 'running_var']\n",
      "Mixed_7c.branch_pool.conv:['weight']\n",
      "Mixed_7c.branch_pool.bn:['weight', 'bias', 'running_mean', 'running_var']\n",
      "fc:['weight', 'bias']\n",
      "\n",
      "2024-08-12 15:33:08.241 | INFO     | videoanalyst.model.module_base:update_params:60 - Load pretrained Inception3_Q parameters from: /home/meysam/test-apps/STMTrack/models/googlenet/inception_v3_google-1a9a5a14-961cad7697695cca7d9ca4814b17a88d.pth whose md5sum is 961cad7697695cca7d9ca4814b17a88d\n",
      "2024-08-12 15:33:08.419 | WARNING  | videoanalyst.model.builder:build:50 - Convert BatchNorm to SyncBatchNorm.\n"
     ]
    }
   ],
   "source": [
    "# build model\n",
    "model = model_builder.build(task, task_cfg.model)\n",
    "model.set_device(devs[0])"
   ]
  },
  {
   "cell_type": "code",
   "execution_count": 26,
   "id": "fbb245a4",
   "metadata": {},
   "outputs": [
    {
     "name": "stderr",
     "output_type": "stream",
     "text": [
      "2024-08-12 15:33:11.917 | INFO     | videoanalyst.data.builder:build:34 - Build dummy AdaptorDataset\n",
      "2024-08-12 15:33:11.919 | INFO     | videoanalyst.data.builder:build:42 - Read dummy training sample\n",
      "2024-08-12 15:33:11.968 | INFO     | videoanalyst.evaluation.got_benchmark.datasets.got10k:_get_cache_path:182 - GOT10k: passed cache file None invalid, change to default cache path\n",
      "2024-08-12 15:33:11.969 | INFO     | videoanalyst.evaluation.got_benchmark.datasets.got10k:_ensure_cache:147 - GOT10k: cache file exists: /media/meysam/hdd2/GOT-10K/GOT-10k/train.pkl \n",
      "2024-08-12 15:33:13.042 | INFO     | videoanalyst.evaluation.got_benchmark.datasets.got10k:_load_cache_for_current_subset:200 - GOT10k: loaded cache file /media/meysam/hdd2/GOT-10K/GOT-10k/train.pkl\n",
      "2024-08-12 15:33:13.045 | INFO     | videoanalyst.evaluation.got_benchmark.datasets.got10k:_ensure_cache:151 - GOT10k: record check has been processed and validity is confirmed for cache file: /media/meysam/hdd2/GOT-10K/GOT-10k/train.pkl \n",
      "2024-08-12 15:33:13.046 | INFO     | videoanalyst.data.sampler.sampler_base:__init__:51 - Sampler's underlying datasets: GOT10kDataset, length 9335\n",
      "2024-08-12 15:33:13.047 | INFO     | videoanalyst.data.adaptor_dataset:__getitem__:47 - AdaptorDataset #0 built datapipeline with seed=997010\n",
      "/home/meysam/anaconda3/lib/python3.9/site-packages/torch/functional.py:568: UserWarning: torch.meshgrid: in an upcoming release, it will be required to pass the indexing argument. (Triggered internally at  ../aten/src/ATen/native/TensorShape.cpp:2228.)\n",
      "  return _VF.meshgrid(tensors, **kwargs)  # type: ignore[attr-defined]\n",
      "2024-08-12 15:33:13.247 | INFO     | videoanalyst.data.builder:build:46 - Dummy AdaptorDataset destroyed.\n",
      "2024-08-12 15:33:13.249 | INFO     | videoanalyst.data.builder:build:50 - Build real AdaptorDataset\n",
      "2024-08-12 15:33:13.250 | INFO     | videoanalyst.utils.misc:__exit__:102 - Dataloader building elapsed time: 1.332202\n"
     ]
    }
   ],
   "source": [
    " # load data\n",
    "with Timer(name=\"Dataloader building\", verbose=True):\n",
    "    dataloader = dataloader_builder.build(task, task_cfg.data)"
   ]
  },
  {
   "cell_type": "code",
   "execution_count": 28,
   "id": "b5b6fd93",
   "metadata": {},
   "outputs": [
    {
     "data": {
      "text/plain": [
       "<torch.utils.data.dataloader.DataLoader at 0x7f93d8d91040>"
      ]
     },
     "execution_count": 28,
     "metadata": {},
     "output_type": "execute_result"
    }
   ],
   "source": [
    "dataloader"
   ]
  },
  {
   "cell_type": "code",
   "execution_count": 29,
   "id": "793818db",
   "metadata": {},
   "outputs": [],
   "source": [
    "# build optimizer\n",
    "optimizer = optim_builder.build(task, task_cfg.optim, model)"
   ]
  },
  {
   "cell_type": "code",
   "execution_count": 30,
   "id": "b5d64019",
   "metadata": {},
   "outputs": [
    {
     "name": "stderr",
     "output_type": "stream",
     "text": [
      "2024-08-12 15:34:27.266 | INFO     | videoanalyst.data.sampler.sampler_base:__init__:51 - Sampler's underlying datasets: GOT10kDataset, length 9335\n"
     ]
    }
   ],
   "source": [
    "trainer = engine_builder.build(task, task_cfg.trainer, \"trainer\", optimizer,\n",
    "                                   dataloader)"
   ]
  },
  {
   "cell_type": "code",
   "execution_count": 31,
   "id": "3262df5e",
   "metadata": {},
   "outputs": [],
   "source": [
    "trainer.set_device(devs)"
   ]
  },
  {
   "cell_type": "code",
   "execution_count": 32,
   "id": "e2a0a292",
   "metadata": {},
   "outputs": [],
   "source": [
    "parsed_args_resume = 0\n",
    "trainer.resume(parsed_args_resume)"
   ]
  },
  {
   "cell_type": "code",
   "execution_count": 33,
   "id": "adefbb3d",
   "metadata": {},
   "outputs": [],
   "source": [
    "# Validator initialization\n",
    "root_cfg.test.track.freeze()\n",
    "pipeline = pipeline_builder.build(\"track\", root_cfg.test.track.pipeline, model)\n",
    "testers = tester_builder(\"track\", root_cfg.test.track.tester, \"tester\", pipeline)\n",
    "parsed_args_validation = 15\n",
    "epoch_validation = int(parsed_args.validation)\n",
    "logger.info(\"Start to evaluate the model on the validation set after the epoch #{}\".format(epoch_validation))\n"
   ]
  },
  {
   "cell_type": "code",
   "execution_count": 34,
   "id": "89247f8c",
   "metadata": {},
   "outputs": [],
   "source": [
    "testers"
   ]
  },
  {
   "cell_type": "code",
   "execution_count": null,
   "id": "7c9f02a1",
   "metadata": {},
   "outputs": [],
   "source": [
    "logger.info(\"Training begins.\")\n",
    "while not trainer.is_completed():\n",
    "    model.train()\n",
    "    trainer.train()\n",
    "    trainer.save_snapshot()\n",
    "    if trainer._state['epoch'] >= epoch_validation:\n",
    "        logger.info('Validation begins.')\n",
    "        model.eval()\n",
    "        for tester in testers:\n",
    "            res = tester.test()\n",
    "            benchmark = '{}/{}/{}'.format(tester.__class__.__name__,\n",
    "                                          tester._hyper_params['subsets'][0],\n",
    "                                          'AO')\n",
    "            logger.info('{}: {}'.format(benchmark, res['main_performance']))\n",
    "            tb_log = {benchmark: res['main_performance']}\n",
    "            for mo in trainer._monitors:\n",
    "                if isinstance(mo, TensorboardLogger):\n",
    "                    mo.update(tb_log)\n",
    "            torch.cuda.empty_cache()\n",
    "        logger.info('Validation ends.')\n"
   ]
  },
  {
   "cell_type": "code",
   "execution_count": 34,
   "id": "63f589c5",
   "metadata": {},
   "outputs": [],
   "source": [
    "trainer.save_snapshot(model_param_only=True)\n",
    "logger.info(\"Training completed.\")"
   ]
  },
  {
   "cell_type": "code",
   "execution_count": null,
   "id": "7f64a0d1",
   "metadata": {},
   "outputs": [],
   "source": []
  }
 ],
 "metadata": {
  "kernelspec": {
   "display_name": "Python 3 (ipykernel)",
   "language": "python",
   "name": "python3"
  },
  "language_info": {
   "codemirror_mode": {
    "name": "ipython",
    "version": 3
   },
   "file_extension": ".py",
   "mimetype": "text/x-python",
   "name": "python",
   "nbconvert_exporter": "python",
   "pygments_lexer": "ipython3",
   "version": "3.9.7"
  }
 },
 "nbformat": 4,
 "nbformat_minor": 5
}
